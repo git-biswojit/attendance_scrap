{
 "cells": [
  {
   "cell_type": "code",
   "execution_count": 1,
   "id": "0cc09018-2ea1-4ae8-a723-a09a33d91e58",
   "metadata": {},
   "outputs": [],
   "source": [
    "#!pip install pip install requests\n",
    "#!pip install pandas\n",
    "#!pip install matplotlib\n",
    "\n",
    "import requests as rs\n",
    "import pandas as pd\n",
    "import matplotlib.pyplot as plt\n",
    "import json"
   ]
  },
  {
   "cell_type": "code",
   "execution_count": 2,
   "id": "5a489270-22c1-46de-ac17-63a19e0e433e",
   "metadata": {},
   "outputs": [],
   "source": [
    "def json_decode(j_data):\n",
    "    j_data=json.loads(j_data)\n",
    "    # print(j_data)\n",
    "    static_data={\"course\":j_data['attendanceDetails'][0]['_id'],\n",
    "    \"batch\":j_data['attendanceDetails'][0]['batches'][0]['_id'],\n",
    "    \"division\":j_data['attendanceDetails'][0]['batches'][0]['divisions'][0]['_id'],\n",
    "    \"semester\":j_data['attendanceDetails'][0]['batches'][0]['divisions'][0]['semesters'][0]['_id']}\n",
    "\n",
    "    \n",
    "    small_dict={}\n",
    "    for i in j_data['attendanceDetails'][0]['batches'][0]['divisions'][0]['semesters'][0]['subjects']:\n",
    "        small_dict[i['subject']['name']]={\"semesterSubject\":i['_id'],\"subject\":i['subject']['_id']}\n",
    "        \n",
    "    payload={}\n",
    "    for key, value in small_dict.items():\n",
    "        payload[key] = {**static_data, **value}\n",
    "        \n",
    "    return payload"
   ]
  },
  {
   "cell_type": "code",
   "execution_count": 3,
   "id": "dfcfa7d2-b704-4f76-87f5-56363349db85",
   "metadata": {},
   "outputs": [],
   "source": [
    "def show_data(data):\n",
    "    plt.figure(figsize=[10, 5])\n",
    "    bars = plt.barh(data.columns, data.loc['percentage'], color='green')\n",
    "    \n",
    "    for bar, total_present, total, percent in zip(bars, data.loc['totalPresent'], data.loc['total'],data.loc['percentage']):\n",
    "        if percent<70:\n",
    "            bar.set_color('red')\n",
    "        elif percent<75:\n",
    "            bar.set_color('orange')\n",
    "        elif percent<80:\n",
    "            bar.set_color('skyblue')\n",
    "        \n",
    "        plt.text(100, bar.get_y() + bar.get_height()/2, f'{total_present}/{total} = {percent:.2f}%', ha='left', va='center')\n",
    "        \n",
    "    plt.text(0.5, 1.20, login_data['email'], ha='center', va='center', transform=plt.gca().transAxes, fontsize=14, fontweight='bold') \n",
    "    #get curr axis,  gcf()->figure, axes coord-display coord\n",
    "    plt.axvline(75,color='black',linestyle='--',alpha=0.5)\n",
    "\n",
    "    tot_present = data.loc[\"totalPresent\"].sum()\n",
    "    tot_classes = data.loc['total'].sum()\n",
    "    agg_percent = round((tot_present / tot_classes) * 100, 2)\n",
    "    plt.text(0.5, 1.13, f\"Total Attendance = {tot_present} / {tot_classes}\", ha='center', va='center', transform=plt.gca().transAxes, fontsize=14, fontweight='bold')\n",
    "    plt.text(0.5, 1.07, f\"Aggregate Percentage = {agg_percent}\", ha='center', va='center', transform=plt.gca().transAxes, fontsize=14, fontweight='bold')\n",
    "    \n",
    "    plt.xlim(0,100)\n",
    "    plt.grid(True, alpha=0.3)\n",
    "    plt.show()"
   ]
  },
  {
   "cell_type": "code",
   "execution_count": 4,
   "id": "d70ff642-d46f-4444-b54c-01f684622443",
   "metadata": {},
   "outputs": [],
   "source": [
    "def fetch_data(urls):\n",
    "    data={}\n",
    "    with rs.Session() as s:\n",
    "        response = s.post(urls[\"login_url\"], data=login_data)\n",
    "        if(response.status_code == 200):\n",
    "            set_cookie_header = response.headers.get('Set-Cookie')\n",
    "            token_start_index = set_cookie_header.find('token=') + len('token=')\n",
    "            token_end_index = set_cookie_header.find(';', token_start_index)\n",
    "            if token_end_index == -1:\n",
    "                token = set_cookie_header[token_start_index:]\n",
    "            else:\n",
    "                token = set_cookie_header[token_start_index:token_end_index]\n",
    "    \n",
    "            header = {\"Authorization\": f\"Bearer {token}\"}\n",
    "            payload=json_decode(s.get(urls[\"sub_url\"],headers=header).content)\n",
    "\n",
    "            jump=100//len(payload)\n",
    "            count=jump\n",
    "            for key in payload.keys():\n",
    "                print(f'\\rLoading... {count}%',end='',flush=True)\n",
    "                att_data = s.post(urls[\"att_d_url\"], json=payload[key], headers=header)\n",
    "                data[key] = att_data.json()\n",
    "                count+=jump\n",
    "\n",
    "            print(\"\\rData Fetched Succefully\",end='',flush=True)\n",
    "            lout=s.post(urls[\"lout_url\"],headers=header,data={})\n",
    "            if(lout.status_code==200):\n",
    "                print(\"\\rLogged Out Succefully\",flush=True)\n",
    "        else:\n",
    "            print(\"Sorry Login Failed, Please Retry with Correct Credentials\")\n",
    "        s.close()\n",
    "    return pd.DataFrame(data)"
   ]
  },
  {
   "cell_type": "code",
   "execution_count": 9,
   "id": "cdedcdc3-66fe-410b-af5c-23139ed7db9f",
   "metadata": {},
   "outputs": [
    {
     "name": "stdin",
     "output_type": "stream",
     "text": [
      "Enter Your Email priyanshinakrani@gmail.com\n",
      "Enter Your Password DCs@2023\n",
      "Enter 1 for WAD, 0 for ML, Anyother digit to skip 1\n"
     ]
    },
    {
     "name": "stdout",
     "output_type": "stream",
     "text": [
      "Sorry Login Failed, Please Retry with Correct Credentials\n",
      "Selected Track = Web Designing\n",
      "Sorry Unable To Fetch Track Details, Going with Total\n",
      "\n",
      "\n",
      "Sorry to say Bro 😔😔😔, but Appko Hum Aage Badhne Nhi de Skte 😔😔😔\n"
     ]
    },
    {
     "data": {
      "text/plain": [
       "<Figure size 1000x500 with 0 Axes>"
      ]
     },
     "metadata": {},
     "output_type": "display_data"
    }
   ],
   "source": [
    "urls={\"login_url\": \"https://attendence-system-1910.vercel.app/api/auth/login\",\n",
    "    \"sub_url\"  : \"https://attendence-system-1910.vercel.app/api/attendances/details\",\n",
    "    \"att_d_url\" : \"https://attendence-system-1910.vercel.app/api/students/attendances/details\",\n",
    "    \"lout_url\" : \"https://attendence-system-1910.vercel.app/api/auth/logout\"}\n",
    "\n",
    "try:\n",
    "    login_data={}\n",
    "    login_data[\"email\"]=input(\"Enter Your Email\")\n",
    "    login_data[\"password\"]=input(\"Enter Your Password\")\n",
    "    track=int(input(\"Enter 1 for WAD, 0 for ML, Anyother digit to skip\"))\n",
    "    data=fetch_data(urls)\n",
    "    try:\n",
    "        if track == 1:\n",
    "            print(\"Selected Track = Web Designing\")\n",
    "            data.drop('Computer Vision',axis=1,inplace=True)\n",
    "            data.drop('Deep Learning',axis=1,inplace=True)\n",
    "            data.drop(\"Computer Vision Practical\",axis=1,inplace=True)\n",
    "            data.drop(\"Deep Learning Practical\",axis=1,inplace=True)\n",
    "        elif track == 0:\n",
    "            print(\"Selected Track = Machine Learning\")\n",
    "            data.drop('Web Security',axis=1,inplace=True)\n",
    "            data.drop('Web Security - practical',axis=1,inplace=True)\n",
    "            data.drop('Full Stack Web Development',axis=1,inplace=True)\n",
    "            data.drop(\"Full Stack Web Development - practical\",axis=1,inplace=True)\n",
    "    except:\n",
    "        print(\"Sorry Unable To Fetch Track Details, Going with Total\")\n",
    "    finally:\n",
    "        show_data(data)\n",
    "except:\n",
    "    print(\"\\n\\nSorry to say Bro 😔😔😔, but Appko Hum Aage Badhne Nhi de Skte 😔😔😔\")"
   ]
  },
  {
   "cell_type": "code",
   "execution_count": null,
   "id": "42e1f7c1-f9ba-4195-969e-683b4d805988",
   "metadata": {},
   "outputs": [],
   "source": []
  }
 ],
 "metadata": {
  "kernelspec": {
   "display_name": "Python 3 (ipykernel)",
   "language": "python",
   "name": "python3"
  },
  "language_info": {
   "codemirror_mode": {
    "name": "ipython",
    "version": 3
   },
   "file_extension": ".py",
   "mimetype": "text/x-python",
   "name": "python",
   "nbconvert_exporter": "python",
   "pygments_lexer": "ipython3",
   "version": "3.9.6"
  },
  "widgets": {
   "application/vnd.jupyter.widget-state+json": {
    "state": {},
    "version_major": 2,
    "version_minor": 0
   }
  }
 },
 "nbformat": 4,
 "nbformat_minor": 5
}
